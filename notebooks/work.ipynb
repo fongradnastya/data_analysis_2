{
 "cells": [
  {
   "cell_type": "code",
   "execution_count": 6,
   "metadata": {
    "collapsed": true,
    "pycharm": {
     "name": "#%%\n"
    }
   },
   "outputs": [],
   "source": [
    "import pandas as pd\n",
    "import numpy as np\n",
    "import matplotlib.pyplot as plt\n",
    "from sklearn.preprocessing import MinMaxScaler, LabelEncoder\n",
    "from sklearn.feature_selection import mutual_info_classif, RFE, SelectKBest, chi2\n",
    "from sklearn.linear_model import LogisticRegression, LinearRegression\n",
    "from sklearn.naive_bayes import GaussianNB\n",
    "from sklearn.metrics import roc_auc_score, roc_curve, auc\n",
    "from sklearn.svm import SVC\n",
    "from sklearn.discriminant_analysis import LinearDiscriminantAnalysis, QuadraticDiscriminantAnalysis\n",
    "from matplotlib.ticker import MultipleLocator\n",
    "from sklearn.model_selection import cross_val_score\n",
    "from sklearn.model_selection import train_test_split\n",
    "from sklearn.neighbors import KNeighborsClassifier\n",
    "from sklearn.model_selection import GridSearchCV\n",
    "\n",
    "from imblearn.over_sampling import RandomOverSampler\n",
    "from imblearn.under_sampling import RandomUnderSampler"
   ]
  },
  {
   "cell_type": "code",
   "execution_count": 7,
   "outputs": [],
   "source": [
    "train_data = pd.read_csv(\"C:\\\\Users\\\\fongr\\\\Documents\\\\Мои документы\\\\Второй курс\\\\python\\\\scientificProject1\\\\data\\\\train.csv\")\n",
    "test_data = pd.read_csv(\"C:\\\\Users\\\\fongr\\\\Documents\\\\Мои документы\\\\Второй курс\\\\python\\\\scientificProject1\\\\data\\\\test.csv\")"
   ],
   "metadata": {
    "collapsed": false,
    "pycharm": {
     "name": "#%%\n"
    }
   }
  },
  {
   "cell_type": "markdown",
   "source": [],
   "metadata": {
    "collapsed": false,
    "pycharm": {
     "name": "#%% md\n"
    }
   }
  },
  {
   "cell_type": "code",
   "execution_count": 8,
   "outputs": [
    {
     "name": "stdout",
     "output_type": "stream",
     "text": [
      "<class 'pandas.core.frame.DataFrame'>\n",
      "RangeIndex: 229292 entries, 0 to 229291\n",
      "Data columns (total 12 columns):\n",
      " #   Column                Non-Null Count   Dtype  \n",
      "---  ------                --------------   -----  \n",
      " 0   id                    229292 non-null  int64  \n",
      " 1   Gender                229292 non-null  object \n",
      " 2   Age                   229292 non-null  int64  \n",
      " 3   Driving_License       229292 non-null  int64  \n",
      " 4   Region_Code           229292 non-null  float64\n",
      " 5   Previously_Insured    229292 non-null  int64  \n",
      " 6   Vehicle_Age           229292 non-null  object \n",
      " 7   Vehicle_Damage        229292 non-null  object \n",
      " 8   Annual_Premium        229292 non-null  float64\n",
      " 9   Policy_Sales_Channel  229292 non-null  float64\n",
      " 10  Vintage               229292 non-null  int64  \n",
      " 11  Response              229292 non-null  int64  \n",
      "dtypes: float64(3), int64(6), object(3)\n",
      "memory usage: 21.0+ MB\n",
      "<class 'pandas.core.frame.DataFrame'>\n",
      "RangeIndex: 152862 entries, 0 to 152861\n",
      "Data columns (total 11 columns):\n",
      " #   Column                Non-Null Count   Dtype  \n",
      "---  ------                --------------   -----  \n",
      " 0   id                    152862 non-null  int64  \n",
      " 1   Gender                152862 non-null  object \n",
      " 2   Age                   152862 non-null  int64  \n",
      " 3   Driving_License       152862 non-null  int64  \n",
      " 4   Region_Code           152862 non-null  float64\n",
      " 5   Previously_Insured    152862 non-null  int64  \n",
      " 6   Vehicle_Age           152862 non-null  object \n",
      " 7   Vehicle_Damage        152862 non-null  object \n",
      " 8   Annual_Premium        152862 non-null  float64\n",
      " 9   Policy_Sales_Channel  152862 non-null  float64\n",
      " 10  Vintage               152862 non-null  int64  \n",
      "dtypes: float64(3), int64(5), object(3)\n",
      "memory usage: 12.8+ MB\n"
     ]
    }
   ],
   "source": [
    "train_data.info()\n",
    "test_data.info()"
   ],
   "metadata": {
    "collapsed": false,
    "pycharm": {
     "name": "#%%\n"
    }
   }
  },
  {
   "cell_type": "markdown",
   "source": [
    "Из info видно, что ни в одном столбце нет пустых значений. Выполним деление на числовые и категориальные признаки"
   ],
   "metadata": {
    "collapsed": false,
    "pycharm": {
     "name": "#%% md\n"
    }
   }
  },
  {
   "cell_type": "code",
   "execution_count": 9,
   "outputs": [],
   "source": [
    "df_cat = [\"Gender\", \"Vehicle_Age\", \"Vehicle_Damage\"]\n",
    "df_num = [\"Age\", \"Driving_License\", \"Previously_Insured\", \"Region_Code\", \"Annual_Premium\", \"Policy_Sales_Channel\", \"Vintage\"]\n",
    "df_all = df_num + df_cat\n",
    "result_col = \"Response\"\n",
    "train_data.drop(\"id\", axis=1, inplace=True)"
   ],
   "metadata": {
    "collapsed": false,
    "pycharm": {
     "name": "#%%\n"
    }
   }
  },
  {
   "cell_type": "code",
   "execution_count": 10,
   "outputs": [
    {
     "name": "stdout",
     "output_type": "stream",
     "text": [
      "['Male' 'Female']\n",
      "['1-2 Year' '< 1 Year' '> 2 Years']\n",
      "['No' 'Yes']\n"
     ]
    }
   ],
   "source": [
    "for col in df_cat:\n",
    "    print(train_data[col].unique())"
   ],
   "metadata": {
    "collapsed": false,
    "pycharm": {
     "name": "#%%\n"
    }
   }
  },
  {
   "cell_type": "code",
   "execution_count": 11,
   "outputs": [
    {
     "name": "stdout",
     "output_type": "stream",
     "text": [
      "count    229292.000000\n",
      "mean         38.554987\n",
      "std          15.231658\n",
      "min          20.000000\n",
      "25%          25.000000\n",
      "50%          36.000000\n",
      "75%          49.000000\n",
      "max          85.000000\n",
      "Name: Age, dtype: float64\n",
      "count    229292.000000\n",
      "mean          0.998138\n",
      "std           0.043114\n",
      "min           0.000000\n",
      "25%           1.000000\n",
      "50%           1.000000\n",
      "75%           1.000000\n",
      "max           1.000000\n",
      "Name: Driving_License, dtype: float64\n",
      "count    229292.000000\n",
      "mean          0.489062\n",
      "std           0.499881\n",
      "min           0.000000\n",
      "25%           0.000000\n",
      "50%           0.000000\n",
      "75%           1.000000\n",
      "max           1.000000\n",
      "Name: Previously_Insured, dtype: float64\n",
      "count    229292.000000\n",
      "mean         26.420207\n",
      "std          13.191474\n",
      "min           0.000000\n",
      "25%          15.000000\n",
      "50%          28.000000\n",
      "75%          35.000000\n",
      "max          52.000000\n",
      "Name: Region_Code, dtype: float64\n",
      "count    229292.000000\n",
      "mean      30730.076549\n",
      "std       17054.686028\n",
      "min        2630.000000\n",
      "25%       24564.000000\n",
      "50%       31709.000000\n",
      "75%       39470.000000\n",
      "max      540165.000000\n",
      "Name: Annual_Premium, dtype: float64\n",
      "count    229292.000000\n",
      "mean        111.923669\n",
      "std          54.308261\n",
      "min           1.000000\n",
      "25%          26.000000\n",
      "50%         140.000000\n",
      "75%         152.000000\n",
      "max         163.000000\n",
      "Name: Policy_Sales_Channel, dtype: float64\n",
      "count    229292.000000\n",
      "mean        154.194425\n",
      "std          83.727049\n",
      "min          10.000000\n",
      "25%          82.000000\n",
      "50%         154.000000\n",
      "75%         227.000000\n",
      "max         299.000000\n",
      "Name: Vintage, dtype: float64\n"
     ]
    }
   ],
   "source": [
    "for col in df_num:\n",
    "    print(train_data[col].describe())"
   ],
   "metadata": {
    "collapsed": false,
    "pycharm": {
     "name": "#%%\n"
    }
   }
  },
  {
   "cell_type": "markdown",
   "source": [
    "Произведём кодирование категориальных признаков"
   ],
   "metadata": {
    "collapsed": false,
    "pycharm": {
     "name": "#%% md\n"
    }
   }
  },
  {
   "cell_type": "code",
   "execution_count": 12,
   "outputs": [
    {
     "name": "stdout",
     "output_type": "stream",
     "text": [
      "[1, 0]\n",
      "Categories (2, int64): [0, 1]\n",
      "[0, 1, 2]\n",
      "Categories (3, int64): [0, 1, 2]\n",
      "[0, 1]\n",
      "Categories (2, int64): [0, 1]\n"
     ]
    }
   ],
   "source": [
    "le = LabelEncoder()\n",
    "for column in df_cat:\n",
    "    train_data[column] = le.fit_transform(train_data[column])\n",
    "    test_data[column] = le.fit_transform(test_data[column])\n",
    "    train_data[column] = train_data[column].astype(\"category\")\n",
    "    test_data[column] = test_data[column].astype(\"category\")\n",
    "    print(train_data[column].unique())"
   ],
   "metadata": {
    "collapsed": false,
    "pycharm": {
     "name": "#%%\n"
    }
   }
  },
  {
   "cell_type": "markdown",
   "source": [
    "Произведём нормирование всех числовых признаков"
   ],
   "metadata": {
    "collapsed": false,
    "pycharm": {
     "name": "#%% md\n"
    }
   }
  },
  {
   "cell_type": "code",
   "execution_count": 13,
   "outputs": [
    {
     "data": {
      "text/plain": "                 Age  Driving_License    Region_Code  Previously_Insured  \\\ncount  229292.000000    229292.000000  229292.000000       229292.000000   \nmean        0.285461         0.998138       0.508081            0.489062   \nstd         0.234333         0.043114       0.253682            0.499881   \nmin         0.000000         0.000000       0.000000            0.000000   \n25%         0.076923         1.000000       0.288462            0.000000   \n50%         0.246154         1.000000       0.538462            0.000000   \n75%         0.446154         1.000000       0.673077            1.000000   \nmax         1.000000         1.000000       1.000000            1.000000   \n\n       Annual_Premium  Policy_Sales_Channel        Vintage       Response  \ncount   229292.000000         229292.000000  229292.000000  229292.000000  \nmean         0.052276              0.684714       0.498943       0.164079  \nstd          0.031728              0.335236       0.289713       0.370348  \nmin          0.000000              0.000000       0.000000       0.000000  \n25%          0.040805              0.154321       0.249135       0.000000  \n50%          0.054097              0.858025       0.498270       0.000000  \n75%          0.068535              0.932099       0.750865       0.000000  \nmax          1.000000              1.000000       1.000000       1.000000  ",
      "text/html": "<div>\n<style scoped>\n    .dataframe tbody tr th:only-of-type {\n        vertical-align: middle;\n    }\n\n    .dataframe tbody tr th {\n        vertical-align: top;\n    }\n\n    .dataframe thead th {\n        text-align: right;\n    }\n</style>\n<table border=\"1\" class=\"dataframe\">\n  <thead>\n    <tr style=\"text-align: right;\">\n      <th></th>\n      <th>Age</th>\n      <th>Driving_License</th>\n      <th>Region_Code</th>\n      <th>Previously_Insured</th>\n      <th>Annual_Premium</th>\n      <th>Policy_Sales_Channel</th>\n      <th>Vintage</th>\n      <th>Response</th>\n    </tr>\n  </thead>\n  <tbody>\n    <tr>\n      <th>count</th>\n      <td>229292.000000</td>\n      <td>229292.000000</td>\n      <td>229292.000000</td>\n      <td>229292.000000</td>\n      <td>229292.000000</td>\n      <td>229292.000000</td>\n      <td>229292.000000</td>\n      <td>229292.000000</td>\n    </tr>\n    <tr>\n      <th>mean</th>\n      <td>0.285461</td>\n      <td>0.998138</td>\n      <td>0.508081</td>\n      <td>0.489062</td>\n      <td>0.052276</td>\n      <td>0.684714</td>\n      <td>0.498943</td>\n      <td>0.164079</td>\n    </tr>\n    <tr>\n      <th>std</th>\n      <td>0.234333</td>\n      <td>0.043114</td>\n      <td>0.253682</td>\n      <td>0.499881</td>\n      <td>0.031728</td>\n      <td>0.335236</td>\n      <td>0.289713</td>\n      <td>0.370348</td>\n    </tr>\n    <tr>\n      <th>min</th>\n      <td>0.000000</td>\n      <td>0.000000</td>\n      <td>0.000000</td>\n      <td>0.000000</td>\n      <td>0.000000</td>\n      <td>0.000000</td>\n      <td>0.000000</td>\n      <td>0.000000</td>\n    </tr>\n    <tr>\n      <th>25%</th>\n      <td>0.076923</td>\n      <td>1.000000</td>\n      <td>0.288462</td>\n      <td>0.000000</td>\n      <td>0.040805</td>\n      <td>0.154321</td>\n      <td>0.249135</td>\n      <td>0.000000</td>\n    </tr>\n    <tr>\n      <th>50%</th>\n      <td>0.246154</td>\n      <td>1.000000</td>\n      <td>0.538462</td>\n      <td>0.000000</td>\n      <td>0.054097</td>\n      <td>0.858025</td>\n      <td>0.498270</td>\n      <td>0.000000</td>\n    </tr>\n    <tr>\n      <th>75%</th>\n      <td>0.446154</td>\n      <td>1.000000</td>\n      <td>0.673077</td>\n      <td>1.000000</td>\n      <td>0.068535</td>\n      <td>0.932099</td>\n      <td>0.750865</td>\n      <td>0.000000</td>\n    </tr>\n    <tr>\n      <th>max</th>\n      <td>1.000000</td>\n      <td>1.000000</td>\n      <td>1.000000</td>\n      <td>1.000000</td>\n      <td>1.000000</td>\n      <td>1.000000</td>\n      <td>1.000000</td>\n      <td>1.000000</td>\n    </tr>\n  </tbody>\n</table>\n</div>"
     },
     "execution_count": 13,
     "metadata": {},
     "output_type": "execute_result"
    }
   ],
   "source": [
    "scaler = MinMaxScaler()\n",
    "train_data[df_num] = scaler.fit_transform(train_data[df_num])\n",
    "test_data[df_num] = scaler.fit_transform(test_data[df_num])\n",
    "train_data.describe()"
   ],
   "metadata": {
    "collapsed": false,
    "pycharm": {
     "name": "#%%\n"
    }
   }
  },
  {
   "cell_type": "markdown",
   "source": [
    "## Отбор информативных признаков"
   ],
   "metadata": {
    "collapsed": false,
    "pycharm": {
     "name": "#%% md\n"
    }
   }
  },
  {
   "cell_type": "code",
   "execution_count": 14,
   "outputs": [],
   "source": [
    "x = train_data[df_all]\n",
    "y = train_data[result_col]\n",
    "x_train, x_test, y_train, y_test = train_test_split(x, y, test_size=0.3, random_state=7)\n",
    "masks = scoring = tuple()\n",
    "n_features_select = 5"
   ],
   "metadata": {
    "collapsed": false,
    "pycharm": {
     "name": "#%%\n"
    }
   }
  },
  {
   "cell_type": "markdown",
   "source": [
    "### Метод фильтрации"
   ],
   "metadata": {
    "collapsed": false,
    "pycharm": {
     "name": "#%% md\n"
    }
   }
  },
  {
   "cell_type": "code",
   "execution_count": 15,
   "outputs": [
    {
     "name": "stdout",
     "output_type": "stream",
     "text": [
      "['Age' 'Previously_Insured' 'Policy_Sales_Channel' 'Vehicle_Age'\n",
      " 'Vehicle_Damage']\n"
     ]
    }
   ],
   "source": [
    "skb = SelectKBest(k=n_features_select)\n",
    "top = skb.fit(x, y)\n",
    "selected_features_mutual_info = top.get_feature_names_out()\n",
    "print(selected_features_mutual_info)"
   ],
   "metadata": {
    "collapsed": false,
    "pycharm": {
     "name": "#%%\n"
    }
   }
  },
  {
   "cell_type": "markdown",
   "source": [
    "### Метод обёртки"
   ],
   "metadata": {
    "collapsed": false,
    "pycharm": {
     "name": "#%% md\n"
    }
   }
  },
  {
   "cell_type": "code",
   "execution_count": 16,
   "outputs": [
    {
     "name": "stdout",
     "output_type": "stream",
     "text": [
      "['Driving_License' 'Previously_Insured' 'Annual_Premium'\n",
      " 'Policy_Sales_Channel' 'Vehicle_Damage']\n"
     ]
    }
   ],
   "source": [
    "clf = LinearRegression()\n",
    "rfe = RFE(clf, n_features_to_select=n_features_select, step=1)\n",
    "top_five = rfe.fit(x, y)\n",
    "selected_features_RFE = top_five.get_feature_names_out()\n",
    "print(selected_features_RFE)"
   ],
   "metadata": {
    "collapsed": false,
    "pycharm": {
     "name": "#%%\n"
    }
   }
  },
  {
   "cell_type": "markdown",
   "source": [
    "### Встроенные методы"
   ],
   "metadata": {
    "collapsed": false,
    "pycharm": {
     "name": "#%% md\n"
    }
   }
  },
  {
   "cell_type": "code",
   "execution_count": 17,
   "outputs": [
    {
     "name": "stdout",
     "output_type": "stream",
     "text": [
      "['Age' 'Previously_Insured' 'Policy_Sales_Channel' 'Vehicle_Age'\n",
      " 'Vehicle_Damage']\n"
     ]
    }
   ],
   "source": [
    "selector = SelectKBest(chi2, k=n_features_select)\n",
    "selector.fit_transform(x, y)\n",
    "selected_features_chi2 = selector.get_feature_names_out()\n",
    "print(selected_features_chi2)"
   ],
   "metadata": {
    "collapsed": false,
    "pycharm": {
     "name": "#%%\n"
    }
   }
  },
  {
   "cell_type": "markdown",
   "source": [
    "### Сравнение результатов"
   ],
   "metadata": {
    "collapsed": false,
    "pycharm": {
     "name": "#%% md\n"
    }
   }
  },
  {
   "cell_type": "code",
   "execution_count": 18,
   "outputs": [],
   "source": [
    "selected_dict = {\n",
    "    \"chi2\": skb,\n",
    "    \"rfe\": rfe,\n",
    "    \"mutual_inf\": selector,\n",
    "}"
   ],
   "metadata": {
    "collapsed": false,
    "pycharm": {
     "name": "#%%\n"
    }
   }
  },
  {
   "cell_type": "markdown",
   "source": [
    "Подсчёт score для изначального фрейма"
   ],
   "metadata": {
    "collapsed": false,
    "pycharm": {
     "name": "#%% md\n"
    }
   }
  },
  {
   "cell_type": "code",
   "execution_count": 19,
   "outputs": [
    {
     "name": "stdout",
     "output_type": "stream",
     "text": [
      "Score (ROC-AUC): 0.8644920774756426\n"
     ]
    }
   ],
   "source": [
    "model = GaussianNB().fit(x_train, y_train)\n",
    "masks += ([True for _ in range(x_train.shape[1])],)\n",
    "scoring += (roc_auc_score(y_test, model.predict_proba(x_test)[:, 1]),)\n",
    "print(\"Score (ROC-AUC): \" + str(scoring[-1]))"
   ],
   "metadata": {
    "collapsed": false,
    "pycharm": {
     "name": "#%%\n"
    }
   }
  },
  {
   "cell_type": "code",
   "execution_count": 20,
   "outputs": [
    {
     "name": "stdout",
     "output_type": "stream",
     "text": [
      "Score (ROC-AUC): 0.8636157626498\n",
      "Score (ROC-AUC): 0.8459675143247214\n",
      "Score (ROC-AUC): 0.8636157626498\n"
     ]
    }
   ],
   "source": [
    "for selector_name, selector in selected_dict.items():\n",
    "    model = GaussianNB().fit(selector.transform(x_train), y_train)\n",
    "    masks += (selector.get_support(),)\n",
    "    scoring = (roc_auc_score(y_test, model.predict_proba(selector.transform(x_test))[:, 1]),)\n",
    "    print(\"Score (ROC-AUC): \" + str(scoring[-1]))"
   ],
   "metadata": {
    "collapsed": false,
    "pycharm": {
     "name": "#%%\n"
    }
   }
  },
  {
   "cell_type": "markdown",
   "source": [
    "Можно увидеть, что 1 и 3 методы выбора значимых признаков дали наилучший результат\n",
    "### Удаление незначимых признаков"
   ],
   "metadata": {
    "collapsed": false,
    "pycharm": {
     "name": "#%% md\n"
    }
   }
  },
  {
   "cell_type": "code",
   "execution_count": 21,
   "outputs": [
    {
     "name": "stdout",
     "output_type": "stream",
     "text": [
      "<class 'pandas.core.frame.DataFrame'>\n",
      "RangeIndex: 229292 entries, 0 to 229291\n",
      "Data columns (total 6 columns):\n",
      " #   Column                Non-Null Count   Dtype   \n",
      "---  ------                --------------   -----   \n",
      " 0   Age                   229292 non-null  float64 \n",
      " 1   Previously_Insured    229292 non-null  float64 \n",
      " 2   Policy_Sales_Channel  229292 non-null  float64 \n",
      " 3   Vehicle_Age           229292 non-null  category\n",
      " 4   Vehicle_Damage        229292 non-null  category\n",
      " 5   Response              229292 non-null  int64   \n",
      "dtypes: category(2), float64(3), int64(1)\n",
      "memory usage: 7.4 MB\n"
     ]
    }
   ],
   "source": [
    "selected_features = selected_features_mutual_info\n",
    "train_data = train_data.loc[:, np.append(selected_features, result_col)]\n",
    "test_data = test_data.loc[:, selected_features]\n",
    "df_all = selected_features\n",
    "\n",
    "x = train_data[df_all]\n",
    "y = train_data[result_col]\n",
    "train_data.info()"
   ],
   "metadata": {
    "collapsed": false,
    "pycharm": {
     "name": "#%%\n"
    }
   }
  },
  {
   "cell_type": "markdown",
   "source": [
    "## Сэмплирование данных"
   ],
   "metadata": {
    "collapsed": false,
    "pycharm": {
     "name": "#%% md\n"
    }
   }
  },
  {
   "cell_type": "code",
   "execution_count": 22,
   "outputs": [
    {
     "name": "stdout",
     "output_type": "stream",
     "text": [
      "Score (ROC-AUC):\n",
      "0.866\n",
      "0.864\n",
      "0.867\n"
     ]
    }
   ],
   "source": [
    "sampling = ((x, y), RandomOverSampler().fit_resample(x, y), RandomUnderSampler().fit_resample(x, y))\n",
    "scoring = tuple()\n",
    "print(\"Score (ROC-AUC):\")\n",
    "for sx, sy in sampling:\n",
    "    scoring += (round(max(cross_val_score(GaussianNB(), sx, sy, scoring=\"roc_auc\", n_jobs=-1)), 3),)\n",
    "    print(scoring[-1])"
   ],
   "metadata": {
    "collapsed": false,
    "pycharm": {
     "name": "#%%\n"
    }
   }
  },
  {
   "cell_type": "markdown",
   "source": [
    "Наилучшим оказался набор, полученный с помощью under-sampling"
   ],
   "metadata": {
    "collapsed": false,
    "pycharm": {
     "name": "#%% md\n"
    }
   }
  },
  {
   "cell_type": "code",
   "execution_count": 23,
   "outputs": [],
   "source": [
    "x, y = sampling[scoring.index(max(scoring))]\n",
    "x_train, x_test, y_train, y_test = train_test_split(x, y, test_size=0.3, random_state=7)"
   ],
   "metadata": {
    "collapsed": false,
    "pycharm": {
     "name": "#%%\n"
    }
   }
  },
  {
   "cell_type": "markdown",
   "source": [
    "## Построение моделей"
   ],
   "metadata": {
    "collapsed": false,
    "pycharm": {
     "name": "#%% md\n"
    }
   }
  },
  {
   "cell_type": "code",
   "execution_count": 24,
   "outputs": [],
   "source": [
    "def create_train_model(clf, param_grid: dict[str]={}) -> GridSearchCV:\n",
    "    print(\"Started creation\")\n",
    "    \"\"\"Создать и обучить модель с подбором параметров.\"\"\"\n",
    "    new_model = GridSearchCV(clf, param_grid, n_jobs=-1, scoring=\"roc_auc\").fit(x_train, y_train)\n",
    "    if param_grid:\n",
    "        print(new_model.best_estimator_)\n",
    "    print(\"Score (ROC_AUC): \" + str(round(model.score(x_test, y_test), 6)))\n",
    "    return new_model\n"
   ],
   "metadata": {
    "collapsed": false,
    "pycharm": {
     "name": "#%%\n"
    }
   }
  },
  {
   "cell_type": "markdown",
   "source": [
    "### Логистическая регрессия"
   ],
   "metadata": {
    "collapsed": false,
    "pycharm": {
     "name": "#%% md\n"
    }
   }
  },
  {
   "cell_type": "code",
   "execution_count": 25,
   "outputs": [
    {
     "name": "stdout",
     "output_type": "stream",
     "text": [
      "Started creation\n",
      "LogisticRegression(max_iter=6, penalty='l1', solver='saga')\n",
      "Score (ROC_AUC): 0.815939\n"
     ]
    },
    {
     "name": "stderr",
     "output_type": "stream",
     "text": [
      "C:\\Users\\fongr\\anaconda3\\envs\\scientificProject1\\lib\\site-packages\\sklearn\\linear_model\\_sag.py:350: ConvergenceWarning: The max_iter was reached which means the coef_ did not converge\n",
      "  warnings.warn(\n",
      "C:\\Users\\fongr\\anaconda3\\envs\\scientificProject1\\lib\\site-packages\\sklearn\\base.py:413: UserWarning: X has feature names, but GaussianNB was fitted without feature names\n",
      "  warnings.warn(\n"
     ]
    }
   ],
   "source": [
    "param_grid = {\n",
    "    \"penalty\": [\"l1\", \"l2\"],\n",
    "    \"solver\": [\"saga\", \"liblinear\"],\n",
    "    \"max_iter\": range(1, 10)}\n",
    "\n",
    "lg = create_train_model(LogisticRegression(), param_grid)"
   ],
   "metadata": {
    "collapsed": false,
    "pycharm": {
     "name": "#%%\n"
    }
   }
  },
  {
   "cell_type": "markdown",
   "source": [
    "### Метод KNN"
   ],
   "metadata": {
    "collapsed": false,
    "pycharm": {
     "name": "#%% md\n"
    }
   }
  },
  {
   "cell_type": "code",
   "execution_count": 26,
   "outputs": [
    {
     "name": "stdout",
     "output_type": "stream",
     "text": [
      "Started creation\n",
      "KNeighborsClassifier(n_neighbors=19)\n",
      "Score (ROC_AUC): 0.815939\n"
     ]
    },
    {
     "name": "stderr",
     "output_type": "stream",
     "text": [
      "C:\\Users\\fongr\\anaconda3\\envs\\scientificProject1\\lib\\site-packages\\sklearn\\base.py:413: UserWarning: X has feature names, but GaussianNB was fitted without feature names\n",
      "  warnings.warn(\n"
     ]
    }
   ],
   "source": [
    "param_grid = {\n",
    "    \"n_neighbors\": range(15, 20),\n",
    "    \"weights\": [\"uniform\", \"distance\"]\n",
    "}\n",
    "\n",
    "knc = create_train_model(KNeighborsClassifier(), param_grid)"
   ],
   "metadata": {
    "collapsed": false,
    "pycharm": {
     "name": "#%%\n"
    }
   }
  },
  {
   "cell_type": "markdown",
   "source": [
    "### Наивный байесовский классификатор"
   ],
   "metadata": {
    "collapsed": false,
    "pycharm": {
     "name": "#%% md\n"
    }
   }
  },
  {
   "cell_type": "code",
   "execution_count": 27,
   "outputs": [
    {
     "name": "stdout",
     "output_type": "stream",
     "text": [
      "Started creation\n",
      "GaussianNB()\n",
      "Score (ROC_AUC): 0.815939\n"
     ]
    },
    {
     "name": "stderr",
     "output_type": "stream",
     "text": [
      "C:\\Users\\fongr\\anaconda3\\envs\\scientificProject1\\lib\\site-packages\\sklearn\\base.py:413: UserWarning: X has feature names, but GaussianNB was fitted without feature names\n",
      "  warnings.warn(\n"
     ]
    }
   ],
   "source": [
    "params = {'var_smoothing': [1e-9, 1e-5, 1e-2, 0.1, 1]}\n",
    "gnb = create_train_model(GaussianNB(), params)"
   ],
   "metadata": {
    "collapsed": false,
    "pycharm": {
     "name": "#%%\n"
    }
   }
  },
  {
   "cell_type": "markdown",
   "source": [
    "### Линейный дискриминантный анализ"
   ],
   "metadata": {
    "collapsed": false,
    "pycharm": {
     "name": "#%% md\n"
    }
   }
  },
  {
   "cell_type": "code",
   "execution_count": 28,
   "outputs": [
    {
     "name": "stdout",
     "output_type": "stream",
     "text": [
      "Started creation\n",
      "LinearDiscriminantAnalysis(shrinkage='auto', solver='lsqr')\n",
      "Score (ROC_AUC): 0.815939\n"
     ]
    },
    {
     "name": "stderr",
     "output_type": "stream",
     "text": [
      "C:\\Users\\fongr\\anaconda3\\envs\\scientificProject1\\lib\\site-packages\\sklearn\\base.py:413: UserWarning: X has feature names, but GaussianNB was fitted without feature names\n",
      "  warnings.warn(\n"
     ]
    }
   ],
   "source": [
    "params = {'solver': ['lsqr', 'eigen'], 'shrinkage': [None, 'auto', 0.5, 0.9]}\n",
    "lda = create_train_model(LinearDiscriminantAnalysis(), params)"
   ],
   "metadata": {
    "collapsed": false,
    "pycharm": {
     "name": "#%%\n"
    }
   }
  },
  {
   "cell_type": "markdown",
   "source": [
    "### Квадратичный дискриминантный анализ"
   ],
   "metadata": {
    "collapsed": false,
    "pycharm": {
     "name": "#%% md\n"
    }
   }
  },
  {
   "cell_type": "code",
   "execution_count": 29,
   "outputs": [
    {
     "name": "stdout",
     "output_type": "stream",
     "text": [
      "Started creation\n",
      "QuadraticDiscriminantAnalysis(reg_param=0, store_covariance=True)\n",
      "Score (ROC_AUC): 0.815939\n"
     ]
    },
    {
     "name": "stderr",
     "output_type": "stream",
     "text": [
      "C:\\Users\\fongr\\anaconda3\\envs\\scientificProject1\\lib\\site-packages\\sklearn\\base.py:413: UserWarning: X has feature names, but GaussianNB was fitted without feature names\n",
      "  warnings.warn(\n"
     ]
    }
   ],
   "source": [
    "params =  {'store_covariance': [True, False], 'reg_param': [0, 0.1, 0.25, 0.5, 0.7, 1]}\n",
    "qda = create_train_model(QuadraticDiscriminantAnalysis(), params)"
   ],
   "metadata": {
    "collapsed": false,
    "pycharm": {
     "name": "#%%\n"
    }
   }
  },
  {
   "cell_type": "markdown",
   "source": [
    "### Метод опорных векторов"
   ],
   "metadata": {
    "collapsed": false,
    "pycharm": {
     "name": "#%% md\n"
    }
   }
  },
  {
   "cell_type": "code",
   "execution_count": 30,
   "outputs": [],
   "source": [
    "params = {'max_iter': range(1, 10)}\n",
    "# svc = create_train_model(SVC(probability=True))"
   ],
   "metadata": {
    "collapsed": false,
    "pycharm": {
     "name": "#%%\n"
    }
   }
  },
  {
   "cell_type": "markdown",
   "source": [
    "### Построение ROC кривых и столбчатой диаграммы score"
   ],
   "metadata": {
    "collapsed": false,
    "pycharm": {
     "name": "#%% md\n"
    }
   }
  },
  {
   "cell_type": "code",
   "execution_count": 31,
   "outputs": [],
   "source": [
    "models = (lg, knc, gnb, lda, qda)\n",
    "names = scoring = probs = tuple()\n",
    "for model in models:\n",
    "    names += (model.best_estimator_.__class__.__name__,)\n",
    "    scoring += (round(model.score(x_test, y_test), 3),)\n",
    "    probs += (model.predict_proba(x_test)[:, 1],)"
   ],
   "metadata": {
    "collapsed": false,
    "pycharm": {
     "name": "#%%\n"
    }
   }
  },
  {
   "cell_type": "code",
   "execution_count": 32,
   "outputs": [
    {
     "data": {
      "text/plain": "<Figure size 1800x480 with 2 Axes>",
      "image/png": "[encoded data removed]"
     },
     "metadata": {},
     "output_type": "display_data"
    }
   ],
   "source": [
    "fig, axes = plt.subplots(1, 2)\n",
    "fig.set_figwidth(18)\n",
    "\n",
    "labels = tuple()\n",
    "for i, prob in enumerate(probs):\n",
    "    fpr, tpr, _ = roc_curve(y_test, prob)\n",
    "    area = round(auc(fpr, tpr), 3)\n",
    "    labels += (names[i] + f\" ({area=})\",)\n",
    "    axes[0].plot(fpr, tpr)\n",
    "axes[0].plot((-0.01, 1.01), (-0.01, 1.01), color=\"navy\", linestyle=\"--\")\n",
    "\n",
    "axes[0].set_title(\"ROC curves\")\n",
    "axes[0].set_xlim((-0.01, 1.01))\n",
    "axes[0].set_ylim((-0.01, 1.01))\n",
    "\n",
    "axes[0].set_xlabel(\"False positive rate\", labelpad=15)\n",
    "axes[0].set_ylabel(\"True positive rate\", labelpad=15)\n",
    "axes[0].legend(loc=\"lower right\", labels=labels)\n",
    "\n",
    "axes[1].bar(names, scoring)\n",
    "axes[1].set_title(\"Scoring (ROC-AUC)\")\n",
    "axes[1].tick_params(\"x\", labelrotation=90)\n",
    "\n",
    "axes[1].set_ylim((0.5, 1))\n",
    "axes[1].yaxis.set_major_locator(MultipleLocator(0.05))\n",
    "axes[1].yaxis.set_minor_locator(MultipleLocator(0.01))\n",
    "for rect, score in zip(axes[1].patches, scoring):\n",
    "    axes[1].text(rect.get_x() + rect.get_width() / 2, rect.get_height() + 0.01, score, ha=\"center\")\n",
    "\n",
    "axes[1].set_xlabel(\"Model\", labelpad=15)\n",
    "axes[1].set_ylabel(\"Score\", labelpad=15)\n",
    "plt.show()"
   ],
   "metadata": {
    "collapsed": false,
    "pycharm": {
     "name": "#%%\n"
    }
   }
  },
  {
   "cell_type": "code",
   "execution_count": 38,
   "outputs": [
    {
     "name": "stdout",
     "output_type": "stream",
     "text": [
      "В результате анализа была выбрана следующая модель: KNeighborsClassifier(n_neighbors=19)\n"
     ]
    }
   ],
   "source": [
    "best_model = models[scoring.index(max(scoring))]\n",
    "print(\"В результате анализа была выбрана следующая модель: \" + str(best_model.best_estimator_))"
   ],
   "metadata": {
    "collapsed": false,
    "pycharm": {
     "name": "#%%\n"
    }
   }
  },
  {
   "cell_type": "markdown",
   "source": [
    "## Работа с тестовой выборкой"
   ],
   "metadata": {
    "collapsed": false,
    "pycharm": {
     "name": "#%% md\n"
    }
   }
  },
  {
   "cell_type": "code",
   "execution_count": null,
   "outputs": [],
   "source": [],
   "metadata": {
    "collapsed": false,
    "pycharm": {
     "name": "#%%\n"
    }
   }
  }
 ],
 "metadata": {
  "kernelspec": {
   "display_name": "Python 3",
   "language": "python",
   "name": "python3"
  },
  "language_info": {
   "codemirror_mode": {
    "name": "ipython",
    "version": 2
   },
   "file_extension": ".py",
   "mimetype": "text/x-python",
   "name": "python",
   "nbconvert_exporter": "python",
   "pygments_lexer": "ipython2",
   "version": "2.7.6"
  }
 },
 "nbformat": 4,
 "nbformat_minor": 0
}
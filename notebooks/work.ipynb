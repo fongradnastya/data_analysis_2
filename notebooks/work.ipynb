{
 "cells": [
  {
   "cell_type": "code",
   "execution_count": 1,
   "metadata": {
    "collapsed": true,
    "pycharm": {
     "name": "#%%\n"
    }
   },
   "outputs": [],
   "source": [
    "import pandas as pd\n",
    "import numpy as np\n",
    "import matplotlib.pyplot as plt\n",
    "from sklearn.preprocessing import MinMaxScaler, LabelEncoder\n",
    "from sklearn.feature_selection import mutual_info_classif, RFE, SelectKBest, chi2\n",
    "from sklearn.linear_model import LogisticRegression, LinearRegression\n",
    "from sklearn.naive_bayes import GaussianNB\n",
    "from sklearn.svm import SVC\n",
    "from sklearn.discriminant_analysis import LinearDiscriminantAnalysis, QuadraticDiscriminantAnalysis\n",
    "\n",
    "from sklearn.model_selection import train_test_split\n",
    "from sklearn.neighbors import KNeighborsClassifier"
   ]
  },
  {
   "cell_type": "code",
   "execution_count": 2,
   "outputs": [],
   "source": [
    "train_data = pd.read_csv(\"C:\\\\Users\\\\fongr\\\\Documents\\\\Мои документы\\\\Второй курс\\\\python\\\\scientificProject1\\\\data\\\\train.csv\")\n",
    "test_data = pd.read_csv(\"C:\\\\Users\\\\fongr\\\\Documents\\\\Мои документы\\\\Второй курс\\\\python\\\\scientificProject1\\\\data\\\\test.csv\")"
   ],
   "metadata": {
    "collapsed": false,
    "pycharm": {
     "name": "#%%\n"
    }
   }
  },
  {
   "cell_type": "markdown",
   "source": [],
   "metadata": {
    "collapsed": false,
    "pycharm": {
     "name": "#%% md\n"
    }
   }
  },
  {
   "cell_type": "code",
   "execution_count": 3,
   "outputs": [
    {
     "name": "stdout",
     "output_type": "stream",
     "text": [
      "<class 'pandas.core.frame.DataFrame'>\n",
      "RangeIndex: 229292 entries, 0 to 229291\n",
      "Data columns (total 12 columns):\n",
      " #   Column                Non-Null Count   Dtype  \n",
      "---  ------                --------------   -----  \n",
      " 0   id                    229292 non-null  int64  \n",
      " 1   Gender                229292 non-null  object \n",
      " 2   Age                   229292 non-null  int64  \n",
      " 3   Driving_License       229292 non-null  int64  \n",
      " 4   Region_Code           229292 non-null  float64\n",
      " 5   Previously_Insured    229292 non-null  int64  \n",
      " 6   Vehicle_Age           229292 non-null  object \n",
      " 7   Vehicle_Damage        229292 non-null  object \n",
      " 8   Annual_Premium        229292 non-null  float64\n",
      " 9   Policy_Sales_Channel  229292 non-null  float64\n",
      " 10  Vintage               229292 non-null  int64  \n",
      " 11  Response              229292 non-null  int64  \n",
      "dtypes: float64(3), int64(6), object(3)\n",
      "memory usage: 21.0+ MB\n",
      "<class 'pandas.core.frame.DataFrame'>\n",
      "RangeIndex: 152862 entries, 0 to 152861\n",
      "Data columns (total 11 columns):\n",
      " #   Column                Non-Null Count   Dtype  \n",
      "---  ------                --------------   -----  \n",
      " 0   id                    152862 non-null  int64  \n",
      " 1   Gender                152862 non-null  object \n",
      " 2   Age                   152862 non-null  int64  \n",
      " 3   Driving_License       152862 non-null  int64  \n",
      " 4   Region_Code           152862 non-null  float64\n",
      " 5   Previously_Insured    152862 non-null  int64  \n",
      " 6   Vehicle_Age           152862 non-null  object \n",
      " 7   Vehicle_Damage        152862 non-null  object \n",
      " 8   Annual_Premium        152862 non-null  float64\n",
      " 9   Policy_Sales_Channel  152862 non-null  float64\n",
      " 10  Vintage               152862 non-null  int64  \n",
      "dtypes: float64(3), int64(5), object(3)\n",
      "memory usage: 12.8+ MB\n"
     ]
    }
   ],
   "source": [
    "train_data.info()\n",
    "test_data.info()"
   ],
   "metadata": {
    "collapsed": false,
    "pycharm": {
     "name": "#%%\n"
    }
   }
  },
  {
   "cell_type": "markdown",
   "source": [
    "Из info видно, что ни в одном столбце нет пустых значений. Выполним деление на числовые и категориальные признаки"
   ],
   "metadata": {
    "collapsed": false,
    "pycharm": {
     "name": "#%% md\n"
    }
   }
  },
  {
   "cell_type": "code",
   "execution_count": 4,
   "outputs": [],
   "source": [
    "df_cat = [\"Gender\", \"Vehicle_Age\", \"Vehicle_Damage\"]\n",
    "df_num = [\"Age\", \"Driving_License\", \"Previously_Insured\", \"Region_Code\", \"Annual_Premium\", \"Policy_Sales_Channel\", \"Vintage\"]\n",
    "df_all = df_num + df_cat\n",
    "result_col = \"Response\"\n",
    "train_data.drop(\"id\", axis=1, inplace=True)"
   ],
   "metadata": {
    "collapsed": false,
    "pycharm": {
     "name": "#%%\n"
    }
   }
  },
  {
   "cell_type": "code",
   "execution_count": 5,
   "outputs": [
    {
     "name": "stdout",
     "output_type": "stream",
     "text": [
      "['Male' 'Female']\n",
      "['1-2 Year' '< 1 Year' '> 2 Years']\n",
      "['No' 'Yes']\n"
     ]
    }
   ],
   "source": [
    "for col in df_cat:\n",
    "    print(train_data[col].unique())"
   ],
   "metadata": {
    "collapsed": false,
    "pycharm": {
     "name": "#%%\n"
    }
   }
  },
  {
   "cell_type": "code",
   "execution_count": 6,
   "outputs": [
    {
     "name": "stdout",
     "output_type": "stream",
     "text": [
      "count    229292.000000\n",
      "mean         38.554987\n",
      "std          15.231658\n",
      "min          20.000000\n",
      "25%          25.000000\n",
      "50%          36.000000\n",
      "75%          49.000000\n",
      "max          85.000000\n",
      "Name: Age, dtype: float64\n",
      "count    229292.000000\n",
      "mean          0.998138\n",
      "std           0.043114\n",
      "min           0.000000\n",
      "25%           1.000000\n",
      "50%           1.000000\n",
      "75%           1.000000\n",
      "max           1.000000\n",
      "Name: Driving_License, dtype: float64\n",
      "count    229292.000000\n",
      "mean          0.489062\n",
      "std           0.499881\n",
      "min           0.000000\n",
      "25%           0.000000\n",
      "50%           0.000000\n",
      "75%           1.000000\n",
      "max           1.000000\n",
      "Name: Previously_Insured, dtype: float64\n",
      "count    229292.000000\n",
      "mean         26.420207\n",
      "std          13.191474\n",
      "min           0.000000\n",
      "25%          15.000000\n",
      "50%          28.000000\n",
      "75%          35.000000\n",
      "max          52.000000\n",
      "Name: Region_Code, dtype: float64\n",
      "count    229292.000000\n",
      "mean      30730.076549\n",
      "std       17054.686028\n",
      "min        2630.000000\n",
      "25%       24564.000000\n",
      "50%       31709.000000\n",
      "75%       39470.000000\n",
      "max      540165.000000\n",
      "Name: Annual_Premium, dtype: float64\n",
      "count    229292.000000\n",
      "mean        111.923669\n",
      "std          54.308261\n",
      "min           1.000000\n",
      "25%          26.000000\n",
      "50%         140.000000\n",
      "75%         152.000000\n",
      "max         163.000000\n",
      "Name: Policy_Sales_Channel, dtype: float64\n",
      "count    229292.000000\n",
      "mean        154.194425\n",
      "std          83.727049\n",
      "min          10.000000\n",
      "25%          82.000000\n",
      "50%         154.000000\n",
      "75%         227.000000\n",
      "max         299.000000\n",
      "Name: Vintage, dtype: float64\n"
     ]
    }
   ],
   "source": [
    "for col in df_num:\n",
    "    print(train_data[col].describe())"
   ],
   "metadata": {
    "collapsed": false,
    "pycharm": {
     "name": "#%%\n"
    }
   }
  },
  {
   "cell_type": "markdown",
   "source": [
    "Произведём кодирование категориальных признаков"
   ],
   "metadata": {
    "collapsed": false,
    "pycharm": {
     "name": "#%% md\n"
    }
   }
  },
  {
   "cell_type": "code",
   "execution_count": 7,
   "outputs": [
    {
     "name": "stdout",
     "output_type": "stream",
     "text": [
      "[1, 0]\n",
      "Categories (2, int64): [0, 1]\n",
      "[0, 1, 2]\n",
      "Categories (3, int64): [0, 1, 2]\n",
      "[0, 1]\n",
      "Categories (2, int64): [0, 1]\n"
     ]
    }
   ],
   "source": [
    "le = LabelEncoder()\n",
    "for column in df_cat:\n",
    "    train_data[column] = le.fit_transform(train_data[column])\n",
    "    test_data[column] = le.fit_transform(test_data[column])\n",
    "    train_data[column] = train_data[column].astype(\"category\")\n",
    "    test_data[column] = test_data[column].astype(\"category\")\n",
    "    print(train_data[column].unique())"
   ],
   "metadata": {
    "collapsed": false,
    "pycharm": {
     "name": "#%%\n"
    }
   }
  },
  {
   "cell_type": "markdown",
   "source": [
    "Произведём нормирование всех числовых признаков"
   ],
   "metadata": {
    "collapsed": false,
    "pycharm": {
     "name": "#%% md\n"
    }
   }
  },
  {
   "cell_type": "code",
   "execution_count": 8,
   "outputs": [
    {
     "data": {
      "text/plain": "                 Age  Driving_License    Region_Code  Previously_Insured  \\\ncount  229292.000000    229292.000000  229292.000000       229292.000000   \nmean        0.285461         0.998138       0.508081            0.489062   \nstd         0.234333         0.043114       0.253682            0.499881   \nmin         0.000000         0.000000       0.000000            0.000000   \n25%         0.076923         1.000000       0.288462            0.000000   \n50%         0.246154         1.000000       0.538462            0.000000   \n75%         0.446154         1.000000       0.673077            1.000000   \nmax         1.000000         1.000000       1.000000            1.000000   \n\n       Annual_Premium  Policy_Sales_Channel        Vintage       Response  \ncount   229292.000000         229292.000000  229292.000000  229292.000000  \nmean         0.052276              0.684714       0.498943       0.164079  \nstd          0.031728              0.335236       0.289713       0.370348  \nmin          0.000000              0.000000       0.000000       0.000000  \n25%          0.040805              0.154321       0.249135       0.000000  \n50%          0.054097              0.858025       0.498270       0.000000  \n75%          0.068535              0.932099       0.750865       0.000000  \nmax          1.000000              1.000000       1.000000       1.000000  ",
      "text/html": "<div>\n<style scoped>\n    .dataframe tbody tr th:only-of-type {\n        vertical-align: middle;\n    }\n\n    .dataframe tbody tr th {\n        vertical-align: top;\n    }\n\n    .dataframe thead th {\n        text-align: right;\n    }\n</style>\n<table border=\"1\" class=\"dataframe\">\n  <thead>\n    <tr style=\"text-align: right;\">\n      <th></th>\n      <th>Age</th>\n      <th>Driving_License</th>\n      <th>Region_Code</th>\n      <th>Previously_Insured</th>\n      <th>Annual_Premium</th>\n      <th>Policy_Sales_Channel</th>\n      <th>Vintage</th>\n      <th>Response</th>\n    </tr>\n  </thead>\n  <tbody>\n    <tr>\n      <th>count</th>\n      <td>229292.000000</td>\n      <td>229292.000000</td>\n      <td>229292.000000</td>\n      <td>229292.000000</td>\n      <td>229292.000000</td>\n      <td>229292.000000</td>\n      <td>229292.000000</td>\n      <td>229292.000000</td>\n    </tr>\n    <tr>\n      <th>mean</th>\n      <td>0.285461</td>\n      <td>0.998138</td>\n      <td>0.508081</td>\n      <td>0.489062</td>\n      <td>0.052276</td>\n      <td>0.684714</td>\n      <td>0.498943</td>\n      <td>0.164079</td>\n    </tr>\n    <tr>\n      <th>std</th>\n      <td>0.234333</td>\n      <td>0.043114</td>\n      <td>0.253682</td>\n      <td>0.499881</td>\n      <td>0.031728</td>\n      <td>0.335236</td>\n      <td>0.289713</td>\n      <td>0.370348</td>\n    </tr>\n    <tr>\n      <th>min</th>\n      <td>0.000000</td>\n      <td>0.000000</td>\n      <td>0.000000</td>\n      <td>0.000000</td>\n      <td>0.000000</td>\n      <td>0.000000</td>\n      <td>0.000000</td>\n      <td>0.000000</td>\n    </tr>\n    <tr>\n      <th>25%</th>\n      <td>0.076923</td>\n      <td>1.000000</td>\n      <td>0.288462</td>\n      <td>0.000000</td>\n      <td>0.040805</td>\n      <td>0.154321</td>\n      <td>0.249135</td>\n      <td>0.000000</td>\n    </tr>\n    <tr>\n      <th>50%</th>\n      <td>0.246154</td>\n      <td>1.000000</td>\n      <td>0.538462</td>\n      <td>0.000000</td>\n      <td>0.054097</td>\n      <td>0.858025</td>\n      <td>0.498270</td>\n      <td>0.000000</td>\n    </tr>\n    <tr>\n      <th>75%</th>\n      <td>0.446154</td>\n      <td>1.000000</td>\n      <td>0.673077</td>\n      <td>1.000000</td>\n      <td>0.068535</td>\n      <td>0.932099</td>\n      <td>0.750865</td>\n      <td>0.000000</td>\n    </tr>\n    <tr>\n      <th>max</th>\n      <td>1.000000</td>\n      <td>1.000000</td>\n      <td>1.000000</td>\n      <td>1.000000</td>\n      <td>1.000000</td>\n      <td>1.000000</td>\n      <td>1.000000</td>\n      <td>1.000000</td>\n    </tr>\n  </tbody>\n</table>\n</div>"
     },
     "execution_count": 8,
     "metadata": {},
     "output_type": "execute_result"
    }
   ],
   "source": [
    "scaler = MinMaxScaler()\n",
    "train_data[df_num] = scaler.fit_transform(train_data[df_num])\n",
    "test_data[df_num] = scaler.fit_transform(test_data[df_num])\n",
    "train_data.describe()"
   ],
   "metadata": {
    "collapsed": false,
    "pycharm": {
     "name": "#%%\n"
    }
   }
  },
  {
   "cell_type": "markdown",
   "source": [
    "## Отбор информативных признаков\n",
    "### Метод фильтрации"
   ],
   "metadata": {
    "collapsed": false,
    "pycharm": {
     "name": "#%% md\n"
    }
   }
  },
  {
   "cell_type": "code",
   "execution_count": 9,
   "outputs": [
    {
     "data": {
      "text/plain": "<Figure size 640x480 with 1 Axes>",
      "image/png": "[encoded data removed]"
     },
     "metadata": {},
     "output_type": "display_data"
    },
    {
     "ename": "ValueError",
     "evalue": "The truth value of a Series is ambiguous. Use a.empty, a.bool(), a.item(), a.any() or a.all().",
     "output_type": "error",
     "traceback": [
      "\u001B[1;31m---------------------------------------------------------------------------\u001B[0m",
      "\u001B[1;31mValueError\u001B[0m                                Traceback (most recent call last)",
      "Cell \u001B[1;32mIn[9], line 10\u001B[0m\n\u001B[0;32m      8\u001B[0m selected_features_mutual_info \u001B[38;5;241m=\u001B[39m compare_to_cols\u001B[38;5;241m.\u001B[39mhead(n_features_select)[\u001B[38;5;124m\"\u001B[39m\u001B[38;5;124mFeature\u001B[39m\u001B[38;5;124m\"\u001B[39m]\n\u001B[0;32m      9\u001B[0m compare_to_cols\u001B[38;5;241m.\u001B[39mplot(kind\u001B[38;5;241m=\u001B[39m\u001B[38;5;124m\"\u001B[39m\u001B[38;5;124mbarh\u001B[39m\u001B[38;5;124m\"\u001B[39m, x\u001B[38;5;241m=\u001B[39m\u001B[38;5;124m\"\u001B[39m\u001B[38;5;124mFeature\u001B[39m\u001B[38;5;124m\"\u001B[39m, y\u001B[38;5;241m=\u001B[39m\u001B[38;5;124m\"\u001B[39m\u001B[38;5;124mImportance\u001B[39m\u001B[38;5;124m\"\u001B[39m)\n\u001B[1;32m---> 10\u001B[0m \u001B[43mplt\u001B[49m\u001B[38;5;241;43m.\u001B[39;49m\u001B[43mshow\u001B[49m\u001B[43m(\u001B[49m\u001B[43mselected_features_mutual_info\u001B[49m\u001B[43m)\u001B[49m\n",
      "File \u001B[1;32m~\\anaconda3\\envs\\scientificProject1\\lib\\site-packages\\matplotlib\\pyplot.py:446\u001B[0m, in \u001B[0;36mshow\u001B[1;34m(*args, **kwargs)\u001B[0m\n\u001B[0;32m    402\u001B[0m \u001B[38;5;124;03m\"\"\"\u001B[39;00m\n\u001B[0;32m    403\u001B[0m \u001B[38;5;124;03mDisplay all open figures.\u001B[39;00m\n\u001B[0;32m    404\u001B[0m \n\u001B[1;32m   (...)\u001B[0m\n\u001B[0;32m    443\u001B[0m \u001B[38;5;124;03mexplicitly there.\u001B[39;00m\n\u001B[0;32m    444\u001B[0m \u001B[38;5;124;03m\"\"\"\u001B[39;00m\n\u001B[0;32m    445\u001B[0m _warn_if_gui_out_of_main_thread()\n\u001B[1;32m--> 446\u001B[0m \u001B[38;5;28;01mreturn\u001B[39;00m _get_backend_mod()\u001B[38;5;241m.\u001B[39mshow(\u001B[38;5;241m*\u001B[39margs, \u001B[38;5;241m*\u001B[39m\u001B[38;5;241m*\u001B[39mkwargs)\n",
      "File \u001B[1;32m~\\anaconda3\\envs\\scientificProject1\\lib\\site-packages\\matplotlib_inline\\backend_inline.py:98\u001B[0m, in \u001B[0;36mshow\u001B[1;34m(close, block)\u001B[0m\n\u001B[0;32m     95\u001B[0m show\u001B[38;5;241m.\u001B[39m_to_draw \u001B[38;5;241m=\u001B[39m []\n\u001B[0;32m     96\u001B[0m \u001B[38;5;66;03m# only call close('all') if any to close\u001B[39;00m\n\u001B[0;32m     97\u001B[0m \u001B[38;5;66;03m# close triggers gc.collect, which can be slow\u001B[39;00m\n\u001B[1;32m---> 98\u001B[0m \u001B[38;5;28;01mif\u001B[39;00m close \u001B[38;5;129;01mand\u001B[39;00m Gcf\u001B[38;5;241m.\u001B[39mget_all_fig_managers():\n\u001B[0;32m     99\u001B[0m     matplotlib\u001B[38;5;241m.\u001B[39mpyplot\u001B[38;5;241m.\u001B[39mclose(\u001B[38;5;124m'\u001B[39m\u001B[38;5;124mall\u001B[39m\u001B[38;5;124m'\u001B[39m)\n",
      "File \u001B[1;32m~\\anaconda3\\envs\\scientificProject1\\lib\\site-packages\\pandas\\core\\generic.py:1527\u001B[0m, in \u001B[0;36mNDFrame.__nonzero__\u001B[1;34m(self)\u001B[0m\n\u001B[0;32m   1525\u001B[0m \u001B[38;5;129m@final\u001B[39m\n\u001B[0;32m   1526\u001B[0m \u001B[38;5;28;01mdef\u001B[39;00m \u001B[38;5;21m__nonzero__\u001B[39m(\u001B[38;5;28mself\u001B[39m) \u001B[38;5;241m-\u001B[39m\u001B[38;5;241m>\u001B[39m NoReturn:\n\u001B[1;32m-> 1527\u001B[0m     \u001B[38;5;28;01mraise\u001B[39;00m \u001B[38;5;167;01mValueError\u001B[39;00m(\n\u001B[0;32m   1528\u001B[0m         \u001B[38;5;124mf\u001B[39m\u001B[38;5;124m\"\u001B[39m\u001B[38;5;124mThe truth value of a \u001B[39m\u001B[38;5;132;01m{\u001B[39;00m\u001B[38;5;28mtype\u001B[39m(\u001B[38;5;28mself\u001B[39m)\u001B[38;5;241m.\u001B[39m\u001B[38;5;18m__name__\u001B[39m\u001B[38;5;132;01m}\u001B[39;00m\u001B[38;5;124m is ambiguous. \u001B[39m\u001B[38;5;124m\"\u001B[39m\n\u001B[0;32m   1529\u001B[0m         \u001B[38;5;124m\"\u001B[39m\u001B[38;5;124mUse a.empty, a.bool(), a.item(), a.any() or a.all().\u001B[39m\u001B[38;5;124m\"\u001B[39m\n\u001B[0;32m   1530\u001B[0m     )\n",
      "\u001B[1;31mValueError\u001B[0m: The truth value of a Series is ambiguous. Use a.empty, a.bool(), a.item(), a.any() or a.all()."
     ]
    },
    {
     "data": {
      "text/plain": "<Figure size 640x480 with 1 Axes>",
      "image/png": "[encoded data removed]"
     },
     "metadata": {},
     "output_type": "display_data"
    }
   ],
   "source": [
    "x = train_data[df_all]\n",
    "y = train_data[result_col]\n",
    "rating = mutual_info_classif(x, y, random_state=7)\n",
    "\n",
    "compare_to_cols = pd.DataFrame({\"Feature\": x.columns, \"Importance\": rating})\n",
    "compare_to_cols = compare_to_cols.sort_values(\"Importance\", ascending=False)\n",
    "n_features_select = 5\n",
    "selected_features_mutual_info = compare_to_cols.head(n_features_select)[\"Feature\"]\n",
    "compare_to_cols.plot(kind=\"barh\", x=\"Feature\", y=\"Importance\")\n",
    "plt.show(selected_features_mutual_info)"
   ],
   "metadata": {
    "collapsed": false,
    "pycharm": {
     "name": "#%%\n"
    }
   }
  },
  {
   "cell_type": "code",
   "execution_count": null,
   "outputs": [],
   "source": [
    "print(rating)"
   ],
   "metadata": {
    "collapsed": false,
    "pycharm": {
     "name": "#%%\n"
    }
   }
  },
  {
   "cell_type": "markdown",
   "source": [
    "Метод обёртки"
   ],
   "metadata": {
    "collapsed": false,
    "pycharm": {
     "name": "#%% md\n"
    }
   }
  },
  {
   "cell_type": "code",
   "execution_count": null,
   "outputs": [],
   "source": [
    "clf = LinearRegression()\n",
    "rfe = RFE(clf, n_features_to_select=n_features_select, step=1)\n",
    "top_five = rfe.fit(x, y)\n",
    "selected_features_RFE = top_five.get_feature_names_out()\n",
    "print(selected_features_RFE)"
   ],
   "metadata": {
    "collapsed": false,
    "pycharm": {
     "name": "#%%\n"
    }
   }
  },
  {
   "cell_type": "code",
   "execution_count": null,
   "outputs": [],
   "source": [
    "selector = SelectKBest(chi2, k=n_features_select)\n",
    "selector.fit_transform(x, y)\n",
    "selected_features_chi2 = selector.get_feature_names_out()"
   ],
   "metadata": {
    "collapsed": false,
    "pycharm": {
     "name": "#%%\n"
    }
   }
  }
 ],
 "metadata": {
  "kernelspec": {
   "display_name": "Python 3",
   "language": "python",
   "name": "python3"
  },
  "language_info": {
   "codemirror_mode": {
    "name": "ipython",
    "version": 2
   },
   "file_extension": ".py",
   "mimetype": "text/x-python",
   "name": "python",
   "nbconvert_exporter": "python",
   "pygments_lexer": "ipython2",
   "version": "2.7.6"
  }
 },
 "nbformat": 4,
 "nbformat_minor": 0
}